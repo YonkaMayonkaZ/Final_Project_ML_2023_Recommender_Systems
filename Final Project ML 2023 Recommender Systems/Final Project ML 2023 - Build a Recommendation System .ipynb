{
 "cells": [
  {
   "cell_type": "markdown",
   "id": "0f9f553c",
   "metadata": {},
   "source": [
    "# Building Recommendation Systems\n",
    "\n",
    "**Goal: To build a simple recommender system**\n",
    "\n",
    "The focus should be on functionality (not on user interface). The system should include enough content and functionality to be \"interesting\".\n",
    "\n",
    "Suggestions for applications:\n",
    "\n",
    "- \"short text\" recommendations: jokes, quotes, poetry, baby names, recipes, ...\n",
    "\n",
    "- \"local\" recommendations, travel: restaurants, cultural events, places in Brno, holiday locations, countries to visit, tourist attractions,  ...\n",
    "\n",
    "- educational recommendations: courses, foreign language vocabulary, learning materials, ...\n",
    "\n",
    "- product recommendation (specialized for a particular domain): board games, books for children, wines, beers, specific movie genre, ...\n",
    "\n",
    "- personalized guides: TV program, museum guide, ...\n",
    "\n",
    "**Essential publications will be found in piazza**"
   ]
  },
  {
   "cell_type": "markdown",
   "id": "55e7d560",
   "metadata": {},
   "source": [
    "# Final Report Guidelines\n",
    "Due date: The final report is due the second week of January 2023 - More specific plan will be announced later"
   ]
  },
  {
   "cell_type": "markdown",
   "id": "39fed93f",
   "metadata": {},
   "source": [
    "# Project Parts: Proposal, Milestones, Literature Review,  Final Report\n",
    "\n",
    "## Project Proposal (Due November 20, 2023)\n",
    "\n",
    "In this task you need to specify the domain of application of your RS and the dataset you will use.\n",
    "\n",
    "Your proposal should be a PDF document and jupyter presentation, giving the title Project of the project,  the full names of all of your team members, and Proposal a 300-500 word description of what you plan to do.\n",
    "\n",
    "## Milestone (Due Dec 6, 2023)\n",
    "The milestone will help you make sure you're on track, and should describe what you've accomplished so far, and very briefly say what else you plan to do. You should write it as if it's an “early draft\" of what will turn into your final project. You can write it as if you're writing the first few pages of your final project report, so that you can re-use most of the milestone text in your final report. Thus, for example, you should not spend two pages explaining what logistic regression is. Note: We will expect your final writeup to be on the same topic as your milestone.\n",
    "\n",
    "Include a section that describes what each team member worked on and contributed to the project. This is to make sure team members are carrying a fair share of the work for the project.\n",
    "\n",
    "Your milestone should be at most 3 pages, excluding references. Similar to  the proposal, it should include \n",
    "\n",
    "    •\tMotivation: What problem are you tackling, and what's the setting you're considering?\n",
    "    \n",
    "    •\tMethod: What machine learning techniques have you tried and why?\n",
    "    \n",
    "    •\tPreliminary experiments: Describe the experiments that you've run, the outcomes, and any error analysis that you've done. You should have tried at least one baseline.\n",
    "•\tNext steps: Given your preliminary results, what are the next steps that you're considering?"
   ]
  },
  {
   "cell_type": "markdown",
   "id": "bd77c251",
   "metadata": {},
   "source": [
    "# Final Report Guidelines\n",
    "\n",
    "## Abstract \n",
    "\n",
    "It should consist of 2-3  paragraphs consisting of the motivation for your report and a high-level explanation of the methodology you used/results obtained.\n",
    "\n",
    "## Introduction [~1 page]\n",
    "\n",
    "Explain the problem and why it is important. Discuss your motivation for pursuing this problem. Give some background if necessary. Clearly state what the input and output is. Be very explicit: \"The input to our algorithm is an \\{image, amplitude, patient age, rainfall measurements, grayscale video, etc. $\\}$. We then use a $\\{$ SVM, neural network, linear regression, etc.\\} to output a predicted \\{age, stock price, cancer type, music genre, etc.\\}.\"  Being explicit about this makes it easier for readers. "
   ]
  },
  {
   "cell_type": "markdown",
   "id": "4c6ef45a",
   "metadata": {},
   "source": [
    "## Literature Review [~1 page]\n",
    "\n",
    "You should find existing papers, group them into categories based on their approaches, and discuss their strengths and weaknesses, as well as how they are similar to and differ from your work. In your opinion, which approaches were clever/good? What is the state-of-the-art?  You should aim to have at least 5 references in the related work. Include previous attempts by others at your problem, previous technical methods, or previous learning algorithms. Google Scholar is very useful for this: https://scholar. google.com/ (you can click \"cite\" and it generates MLA, APA, BibTeX, etc.)"
   ]
  },
  {
   "cell_type": "markdown",
   "id": "082df6e9",
   "metadata": {},
   "source": [
    "## Dataset and Features $[\\approx 0.5-1$ pages $]$\n",
    "\n",
    "Describe your dataset: how many training/validation/test examples do you have? Is there any preprocessing you did? What about normalization or data augmentation? What is the resolution of your images? How is your time-series data discretized? Include a citation on where you obtained your dataset from. Depending on available space, show some examples from your dataset. You should also talk about the features you used. If you extracted features using Fourier transforms, word2vec, histogram of oriented gradients (HOG), PCA, ICA, etc. make sure to talk about it. Try to include examples of your data in the report (e.g. include an image, show a waveform, etc.)."
   ]
  },
  {
   "cell_type": "markdown",
   "id": "cb7dc851",
   "metadata": {},
   "source": [
    "## Methods $[\\approx 1-1.5$ pages $]$\n",
    "\n",
    "Describe your learning algorithms, proposed algorithm(s), or theoretical proof(s). Make sure to include relevant mathematical notation. For example, you can briefly include the SVM optimization objective/formula or say what the softmax function is. It is okay to use formulas from the lecture notes. For each algorithm, give a short description $(\\approx 1$ paragraph) of how it works. Again, we are looking for your understanding of how these machine learning algorithms work. Although the teaching staff probably know the algorithms, future readers may not (reports will be posted on the class website). Additionally, if you are using a niche or cutting-edge algorithm (e.g. long short-term memory, SURF features, or anything else not covered in the class), you may want to explain your algorithm using $1 / 2$ paragraphs. Note: Theory/algorithms projects may have an appendix showing extended proofs (see Appendix section below)."
   ]
  },
  {
   "cell_type": "markdown",
   "id": "4f278b13",
   "metadata": {},
   "source": [
    "## Experiments/Results/Discussion $[\\approx 1-3$ pages $]$\n",
    "You should also give details about what (hyper)parameters you chose (e.g. why did you use X learning rate for gradient descent, what was your mini-batch size and why) and how you chose them. Did you do cross-validation, if so, how many folds? Before you list your results, make sure to list and explain what your primary metrics are: accuracy, precision, AUC, etc. Provide equations for the metrics if necessary. For results, you want to have a mixture of tables and plots. If you are solving a classification problem, you should include a confusion matrix or AUC/AUPRC curves. Include performance metrics such as precision, recall, and accuracy. For regression problems, state the average error. You should have both quantitative and qualitative results. To reiterate, you must have both quantitative and qualitative results! This includes unsupervised learning (talk with your project TA on how to quantify unsupervised methods). Include visualizations of results, heatmaps, examples of where your algorithm failed and a discussion of why certain algorithms failed or succeeded. In addition, explain whether you think you have overfit to your training set and what, if anything, you did to mitigate that. Make sure to discuss the figures/tables in your main text throughout this section. Your plots should include legends, axis labels, and have font sizes that are legible when printed."
   ]
  },
  {
   "cell_type": "markdown",
   "id": "abbf7148",
   "metadata": {},
   "source": [
    "## Conclusion/Future Work $[\\approx 1-2$ paragraphs $]$\n",
    "Summarize your report and reiterate key points. Which algorithms were the highest performing? Why do you think that some algorithms worked better than others? For future work, if you had more time, more team members, or more computational resources, what would you explore?"
   ]
  },
  {
   "cell_type": "markdown",
   "id": "bc54f1eb",
   "metadata": {},
   "source": [
    "## Contributions\n",
    "The contributions section is not included in the 5 page limit. This section should describe what each team member worked on and contributed to the project."
   ]
  },
  {
   "cell_type": "markdown",
   "id": "413e3ba8",
   "metadata": {},
   "source": [
    "## References/Bibliography (No page limit)\n",
    "This section should include citations for: (1) Any papers mentioned in the related work section. (2) Papers describing algorithms that you used which were not covered in class. (3) Code or libraries you downloaded and used. This includes libraries such as scikit-learn, Matlab toolboxes, Tensorflow, etc. Acceptable formats include: MLA, APA, IEEE. "
   ]
  },
  {
   "cell_type": "markdown",
   "id": "5b3462be",
   "metadata": {},
   "source": [
    "# Formatting\n",
    "Your report will be written in Latex.\n",
    "Feel free to adjust the specific sections according to your needs (e.g. combine introduction and related work or separate the experiments from the discussion. You are free to use single-column or two-column layouts. The paper size is standard A4 or $8.5 \\mathrm{x} 11$ inches. Your font size must be greater than or equal to 10pt. Do not use less than $0.5$ inch margins. If you use latex, we highly recommend using a conference/journal template (e.g. NIPS, IEEE, ICML). They generally provide .tex  templates. When you submit your final report, it must be in PDF format.\n",
    "\n",
    "\n",
    "**We look forward to reading about your project!**"
   ]
  },
  {
   "cell_type": "markdown",
   "id": "35774ffd",
   "metadata": {},
   "source": [
    "# Sources of Data Sets\n",
    "\n",
    "**Movies Recommendation**:\n",
    "\n",
    "* *MovieLens* - Movie Recommendation Data Sets http://www.grouplens.org/node/73\n",
    "* *Yahoo!* - Movie, Music, and Images Ratings Data Sets http://webscope.sandbox.yahoo.com/catalog.php?datatype=r\n",
    "* *Jester* - Movie Ratings Data Sets (Collaborative Filtering Dataset) http://www.ieor.berkeley.edu/~goldberg/jester-data/\n",
    "* *Cornell University* - Movie-review data for use in sentiment-analysis experiments http://www.cs.cornell.edu/people/pabo/movie-review-data/\n",
    "\n",
    "**Music Recommendation**:\n",
    "\n",
    "* *Last.fm* - Music Recommendation Data Sets http://www.dtic.upf.edu/~ocelma/MusicRecommendationDataset/index.html\n",
    "* *Yahoo!* - Movie, Music, and Images Ratings Data Sets http://webscope.sandbox.yahoo.com/catalog.php?datatype=r\n",
    "* *Audioscrobbler* - Music Recommendation Data Sets http://www-etud.iro.umontreal.ca/~bergstrj/audioscrobbler_data.html\n",
    "* *Amazon* - Audio CD recommendations http://131.193.40.52/data/\n",
    "\n",
    "\n",
    "**Books Recommendation**:\n",
    "\n",
    "* *Institut für Informatik, Universität Freiburg* - Book Ratings Data Sets http://www.informatik.uni-freiburg.de/~cziegler/BX/\n",
    "\n",
    "\n",
    "**Food Recommendation**:\n",
    "\n",
    "* *Chicago Entree* - Food Ratings Data Sets http://archive.ics.uci.edu/ml/datasets/Entree+Chicago+Recommendation+Data\n",
    "\n",
    "\n",
    "**Merchandise Recommendation**:\n",
    "\n",
    "* *Amazon* - Product Recommendation Data Sets http://131.193.40.52/data/\n",
    "\n",
    "\n",
    "**Healthcare Recommendation**:\n",
    "\n",
    "* *Nursing Home* - Provider Ratings Data Set http://data.medicare.gov/dataset/Nursing-Home-Compare-Provider-Ratings/mufm-vy8d\n",
    "* *Hospital Ratings* - Survey of Patients Hospital Experiences http://data.medicare.gov/dataset/Survey-of-Patients-Hospital-Experiences-HCAHPS-/rj76-22dk\n",
    "\n",
    "\n",
    "**Dating Recommendation**:\n",
    "\n",
    "* *www.libimseti.cz* - Dating website recommendation (collaborative filtering) http://www.occamslab.com/petricek/data/\n",
    "\n",
    "\n",
    "**Scholarly Paper Recommendation**:\n",
    "\n",
    "* *National University of Singapore* - Scholarly Paper Recommendation http://www.comp.nus.edu.sg/~sugiyama/SchPaperRecData.html"
   ]
  }
 ],
 "metadata": {
  "kernelspec": {
   "display_name": "Python 3 (ipykernel)",
   "language": "python",
   "name": "python3"
  },
  "language_info": {
   "codemirror_mode": {
    "name": "ipython",
    "version": 3
   },
   "file_extension": ".py",
   "mimetype": "text/x-python",
   "name": "python",
   "nbconvert_exporter": "python",
   "pygments_lexer": "ipython3",
   "version": "3.11.4"
  },
  "latex_envs": {
   "LaTeX_envs_menu_present": true,
   "autoclose": false,
   "autocomplete": true,
   "bibliofile": "biblio.bib",
   "cite_by": "apalike",
   "current_citInitial": 1,
   "eqLabelWithNumbers": true,
   "eqNumInitial": 1,
   "hotkeys": {
    "equation": "Ctrl-E",
    "itemize": "Ctrl-I"
   },
   "labels_anchors": false,
   "latex_user_defs": false,
   "report_style_numbering": false,
   "user_envs_cfg": false
  },
  "nbTranslate": {
   "displayLangs": [
    "*"
   ],
   "hotkey": "alt-t",
   "langInMainMenu": true,
   "sourceLang": "en",
   "targetLang": "fr",
   "useGoogleTranslate": true
  },
  "toc": {
   "base_numbering": 1,
   "nav_menu": {},
   "number_sections": true,
   "sideBar": true,
   "skip_h1_title": false,
   "title_cell": "Table of Contents",
   "title_sidebar": "Contents",
   "toc_cell": false,
   "toc_position": {},
   "toc_section_display": true,
   "toc_window_display": false
  },
  "varInspector": {
   "cols": {
    "lenName": 16,
    "lenType": 16,
    "lenVar": 40
   },
   "kernels_config": {
    "python": {
     "delete_cmd_postfix": "",
     "delete_cmd_prefix": "del ",
     "library": "var_list.py",
     "varRefreshCmd": "print(var_dic_list())"
    },
    "r": {
     "delete_cmd_postfix": ") ",
     "delete_cmd_prefix": "rm(",
     "library": "var_list.r",
     "varRefreshCmd": "cat(var_dic_list()) "
    }
   },
   "types_to_exclude": [
    "module",
    "function",
    "builtin_function_or_method",
    "instance",
    "_Feature"
   ],
   "window_display": false
  }
 },
 "nbformat": 4,
 "nbformat_minor": 5
}
